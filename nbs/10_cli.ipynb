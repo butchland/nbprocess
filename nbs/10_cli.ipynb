{
 "cells": [
  {
   "cell_type": "code",
   "execution_count": null,
   "id": "510ed03d-0c3b-4caf-910d-e6eaec08fd63",
   "metadata": {},
   "outputs": [],
   "source": [
    "#|default_exp cli"
   ]
  },
  {
   "cell_type": "code",
   "execution_count": null,
   "id": "3191cc5f-3119-4cf7-baf7-774d0f70cf99",
   "metadata": {},
   "outputs": [],
   "source": [
    "#|export\n",
    "from __future__ import annotations\n",
    "import json,shutil,warnings\n",
    "\n",
    "from nbprocess.read import *\n",
    "from nbprocess.sync import *\n",
    "from nbprocess.process import *\n",
    "from nbprocess.processors import *\n",
    "from fastcore.utils import *\n",
    "from fastcore.script import call_parse"
   ]
  },
  {
   "cell_type": "markdown",
   "id": "82f1d405-9652-4991-9a2c-24cae862ce46",
   "metadata": {},
   "source": [
    "# cli\n",
    "> CLI commands"
   ]
  },
  {
   "cell_type": "code",
   "execution_count": null,
   "id": "03fabbba",
   "metadata": {},
   "outputs": [],
   "source": [
    "#|export\n",
    "@call_parse\n",
    "def ghp_deploy():\n",
    "    \"Deploy docs in doc_path from settings.ini to GitHub Pages\"\n",
    "    try: from ghp_import import ghp_import\n",
    "    except:\n",
    "        warnings.warn('Please install ghp-import with `pip install ghp-import`')\n",
    "        return\n",
    "    ghp_import(config_key('doc_path'), push=True, stderr=True, no_history=True)"
   ]
  },
  {
   "cell_type": "markdown",
   "id": "dcd4994b",
   "metadata": {},
   "source": [
    "### Sidebar -"
   ]
  },
  {
   "cell_type": "code",
   "execution_count": null,
   "id": "6d537417",
   "metadata": {},
   "outputs": [],
   "source": [
    "#|export\n",
    "def _create_sidebar(\n",
    "    path:str=None, symlinks:bool=False, file_glob:str='*.ipynb', file_re:str=None, folder_re:str=None, \n",
    "    skip_file_glob:str=None, skip_file_re:str=None, skip_folder_re:str='^[_.]'):\n",
    "    path = config_key(\"nbs_path\") if not path else Path(path)\n",
    "    files = globtastic(path, symlinks=symlinks, file_glob=file_glob, file_re=file_re,\n",
    "                       folder_re=folder_re, skip_file_glob=skip_file_glob,\n",
    "                       skip_file_re=skip_file_re, skip_folder_re=skip_folder_re\n",
    "                      ).sorted().map(Path)\n",
    "    yml_path = path/'sidebar.yml'\n",
    "    yml = \"website:\\n  sidebar:\\n    contents:\\n\"\n",
    "    yml += '\\n'.join(f'      - {o.relative_to(path)}' for o in files)\n",
    "    yml_path.write_text(yml)\n",
    "    return files"
   ]
  },
  {
   "cell_type": "code",
   "execution_count": null,
   "id": "fabe55c4",
   "metadata": {},
   "outputs": [],
   "source": [
    "#|export\n",
    "@call_parse\n",
    "def create_sidebar(\n",
    "    path:str=None, # path to notebooks\n",
    "    symlinks:bool=False, # follow symlinks?\n",
    "    file_glob:str='*.ipynb', # Only include files matching glob\n",
    "    file_re:str=None, # Only include files matching regex\n",
    "    folder_re:str=None, # Only enter folders matching regex\n",
    "    skip_file_glob:str=None, # Skip files matching glob\n",
    "    skip_file_re:str=None, # Skip files matching regex\n",
    "    skip_folder_re:str='^[_.]' # Skip folders matching regex\n",
    "):\n",
    "    \"Create sidebar.yml\"\n",
    "    _create_sidebar(path, symlinks, file_glob=file_glob, file_re=file_re, folder_re=folder_re,\n",
    "                   skip_file_glob=skip_file_glob, skip_file_re=skip_file_re, skip_folder_re=skip_folder_re)"
   ]
  },
  {
   "cell_type": "markdown",
   "id": "e9fc60a8",
   "metadata": {},
   "source": [
    "### Filter -"
   ]
  },
  {
   "cell_type": "code",
   "execution_count": null,
   "id": "c3b89ff6",
   "metadata": {},
   "outputs": [],
   "source": [
    "#|export\n",
    "class FilterDefaults:\n",
    "    \"Override `FilterDefaults` to change which notebook processors are used\"\n",
    "    def _nothing(self): return []\n",
    "    xtra_procs=xtra_preprocs=xtra_postprocs=_nothing\n",
    "    \n",
    "    def base_preprocs(self): return [add_show_docs, insert_warning]\n",
    "    def base_postprocs(self): return [add_frontmatter]\n",
    "    def base_procs(self):\n",
    "        return [strip_ansi, hide_line, filter_stream_, lang_identify, rm_header_dash,\n",
    "                clean_show_doc, exec_show_docs, rm_export, clean_magics, hide_]\n",
    "\n",
    "    def procs(self):\n",
    "        \"Processors for export\"\n",
    "        return self.base_procs() + self.xtra_procs()\n",
    "\n",
    "    def preprocs(self):\n",
    "        \"Preprocessors for export\"\n",
    "        return self.base_preprocs() + self.xtra_preprocs()\n",
    "\n",
    "    def postprocs(self):\n",
    "        \"Postprocessors for export\"\n",
    "        return self.base_postprocs() + self.xtra_postprocs()"
   ]
  },
  {
   "cell_type": "code",
   "execution_count": null,
   "id": "0ce7675e",
   "metadata": {},
   "outputs": [],
   "source": [
    "#|export\n",
    "@call_parse\n",
    "def filter_nb(\n",
    "    nb_txt:str=None  # Notebook text (uses stdin if not provided)\n",
    "):\n",
    "    \"A notebook filter for quarto\"\n",
    "    filt = get_config().get('exporter', FilterDefaults)()\n",
    "    printit = False\n",
    "    if not nb_txt: nb_txt,printit = sys.stdin.read(),True\n",
    "    nb = dict2nb(json.loads(nb_txt))\n",
    "    NBProcessor(nb=nb, procs=filt.procs(), preprocs=filt.preprocs(), postprocs=filt.postprocs()).process()\n",
    "    res = nb2str(nb)\n",
    "    if printit: print(res, flush=True)\n",
    "    else: return res"
   ]
  },
  {
   "cell_type": "markdown",
   "id": "fd5c9b32",
   "metadata": {},
   "source": [
    "### Quarto"
   ]
  },
  {
   "cell_type": "code",
   "execution_count": null,
   "id": "0efe744e",
   "metadata": {},
   "outputs": [],
   "source": [
    "#|export\n",
    "@call_parse\n",
    "def create_quarto(\n",
    "    path:str=None, # path to notebooks\n",
    "    doc_path:str=None, # path to output docs\n",
    "    symlinks:bool=False, # follow symlinks?\n",
    "    file_glob:str='*.ipynb', # Only include files matching glob\n",
    "    file_re:str=None, # Only include files matching regex\n",
    "    folder_re:str=None, # Only enter folders matching regex\n",
    "    skip_file_glob:str=None, # Skip files matching glob\n",
    "    skip_file_re:str=None, # Skip files matching regex\n",
    "    skip_folder_re:str='^[_.]' # Skip folders matching regex\n",
    "):\n",
    "    \"Create quarto docs and README.md\"\n",
    "    path = config_key(\"nbs_path\") if not path else Path(path)\n",
    "    files = _create_sidebar(path, symlinks, file_glob=file_glob, file_re=file_re, folder_re=folder_re,\n",
    "                   skip_file_glob=skip_file_glob, skip_file_re=skip_file_re, skip_folder_re=skip_folder_re)\n",
    "    doc_path = config_key(\"doc_path\") if not doc_path else Path(doc_path)\n",
    "    os.system(f'cd {path} && quarto render')\n",
    "    os.system(f'cd {path} && quarto render {files[-1]} -o README.md -t gfm')\n",
    "    cfg_path = get_config().config_path\n",
    "    shutil.rmtree(cfg_path/'docs', ignore_errors=True)\n",
    "    (cfg_path/'README.md').unlink(missing_ok=True)\n",
    "    docs = path/'docs'\n",
    "    shutil.move(docs/'README.md', cfg_path)\n",
    "    shutil.move(docs, cfg_path)"
   ]
  },
  {
   "cell_type": "code",
   "execution_count": null,
   "id": "c945f8ab",
   "metadata": {},
   "outputs": [],
   "source": [
    "# create_quarto()"
   ]
  },
  {
   "cell_type": "markdown",
   "id": "aa35b010",
   "metadata": {},
   "source": [
    "## Export -"
   ]
  },
  {
   "cell_type": "code",
   "execution_count": null,
   "id": "3d8031ce",
   "metadata": {},
   "outputs": [],
   "source": [
    "#|skip\n",
    "from nbprocess.doclinks import nbs_export\n",
    "nbs_export()"
   ]
  }
 ],
 "metadata": {
  "kernelspec": {
   "display_name": "Python 3 (ipykernel)",
   "language": "python",
   "name": "python3"
  }
 },
 "nbformat": 4,
 "nbformat_minor": 5
}
